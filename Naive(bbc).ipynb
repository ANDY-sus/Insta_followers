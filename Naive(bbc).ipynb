{
  "nbformat": 4,
  "nbformat_minor": 0,
  "metadata": {
    "colab": {
      "name": "Naive(bbc)",
      "provenance": []
    },
    "kernelspec": {
      "name": "python3",
      "display_name": "Python 3"
    }
  },
  "cells": [
    {
      "cell_type": "code",
      "metadata": {
        "id": "fhXMUpjl7YPT",
        "colab": {
          "base_uri": "https://localhost:8080/"
        },
        "outputId": "72ed9b9f-7079-4c67-eb33-d83f8d4b0853"
      },
      "source": [
        "from google.colab import drive\n",
        "drive.mount('/content/gdrive', force_remount=True)"
      ],
      "execution_count": null,
      "outputs": [
        {
          "output_type": "stream",
          "text": [
            "Mounted at /content/gdrive\n"
          ],
          "name": "stdout"
        }
      ]
    },
    {
      "cell_type": "code",
      "metadata": {
        "id": "KMJUkX3RDWDB"
      },
      "source": [
        "inconsequential_words = [\"the\",\"all\",\"off\",\"of\",\"or\",\"but\",\"and\",\"through\",\"though\",\"although\",\"then\",\n",
        "          \"not\",\"in\",\"out\",\"on\",\"about\",\"too\",\"yet\",\"nor\",\"either\",\"neither\",\"so\",\"therefore\",\n",
        "          \"moreover\",\"furthermore\",\"however\",\"also\",\"hence\",\"to\",\"at\",\"from\",\"with\",\"by\",\"as\",\n",
        "          \"this\",\"that\",\"these\",\"those\",\"between\",\"only\",\"for\",\"a\",\"an\",\"into\",\"non\",\" no\",\"yes\",\n",
        "          \"up\",\"down\",\"even\",\"ever\",\"am\",\"is\",\"are\",\"was\",\"were\",\"will\",\"i\",\"he\",\"she\",\"we\",\"they\",\n",
        "          \"it\",\"you\",\"my\",\"its\",\"his\",\"her\",\"their\",\"our\",\"your\",\"have\",\"has\",\"be\",\"been\",\"do\",\"does\",\n",
        "          \"not\",\"thus\",\"would\",\"could\",\"can\",\"until\",\"him\",\"me\",\"them\",\"us\",\"if\",\"unless\",\"who\",\"when\",\n",
        "          \"where\",\"which\",\"whether\",\"what\",\"why\",\"whoever\",\"whatever\",\"whom\",\"had\",\"away\",\"did\",\"there\",\n",
        "          \"whose\",\"more\",\"most\",\"co\",\"re\",\"la\",\"le\",\"any\",\"other\",\"each\",\"much\",\"than\",\"some\",\"every\",\n",
        "          \"thing\",\"else\",\"one\",\"two\",\"three\",\"four\",\"five\",\"six\",\"seven\",\"eight\",\"nine\", \"ten\"]"
      ],
      "execution_count": null,
      "outputs": []
    },
    {
      "cell_type": "code",
      "metadata": {
        "id": "d4R--Es0CNzg"
      },
      "source": [
        "def remove_inconsequent(text):\n",
        "  new_text = \"\"\n",
        "  all_words = set(text.split(\" \"))\n",
        "  for word in all_words:\n",
        "    if not word in inconsequential_words:\n",
        "      new_text += word + \" \"\n",
        "  return new_text"
      ],
      "execution_count": null,
      "outputs": []
    },
    {
      "cell_type": "code",
      "metadata": {
        "id": "oyRZANsl7cgL"
      },
      "source": [
        "path = '/content/gdrive/My Drive/colab_Andy/Classwork/BBC News Train.csv'\n",
        "import codecs\n",
        "with codecs.open(path, \"r\",encoding='utf-8', errors='ignore') as fdata:\n",
        "  segments = fdata.readlines()"
      ],
      "execution_count": null,
      "outputs": []
    },
    {
      "cell_type": "code",
      "metadata": {
        "id": "2CLJJ_H37yBO"
      },
      "source": [
        "sport = []\n",
        "politic = []\n",
        "for i in segments:\n",
        "  check = i.split(\",\")[-1].strip()\n",
        "  if check == \"sport\":\n",
        "    sport.append(i[:-9].lower()) #sport\n",
        "  else:\n",
        "    politic.append(i[:-12].lower()) #politic"
      ],
      "execution_count": null,
      "outputs": []
    },
    {
      "cell_type": "code",
      "metadata": {
        "id": "gY1ZF_AiDFh5"
      },
      "source": [
        "clear_sport = []\n",
        "for segment in sport:\n",
        "  clear_sport.append(remove_inconsequent(segment))\n",
        "\n",
        "clear_politic = []\n",
        "for segment in politic:\n",
        "  clear_politic.append(remove_inconsequent(segment))"
      ],
      "execution_count": null,
      "outputs": []
    },
    {
      "cell_type": "code",
      "metadata": {
        "id": "UjiGXFS2DoXx"
      },
      "source": [
        "def calc_probs(d):\n",
        "  \"\"\"extend list words d from text\n",
        "  return the dict of probabilities of words in this text\"\"\"\n",
        "  dict_probs_d = {}\n",
        "  d_set = set(d)\n",
        "  for word in d_set:\n",
        "    dict_probs_d[word] = d.count(word) / len(d)\n",
        "  return dict_probs_d "
      ],
      "execution_count": null,
      "outputs": []
    },
    {
      "cell_type": "code",
      "metadata": {
        "id": "NAC4C-FqFJmh",
        "colab": {
          "base_uri": "https://localhost:8080/"
        },
        "outputId": "bb5ba53a-d242-4b7a-eb8f-260e33ee86de"
      },
      "source": [
        "prob_sport = len(sport) / (len(politic) + len(sport))\n",
        "prob_politic = 1 - prob_sport\n",
        "print(prob_sport)\n",
        "print(prob_politic)"
      ],
      "execution_count": null,
      "outputs": [
        {
          "output_type": "stream",
          "text": [
            "0.6538461538461539\n",
            "0.34615384615384615\n"
          ],
          "name": "stdout"
        }
      ]
    },
    {
      "cell_type": "code",
      "metadata": {
        "id": "4uyf0FtMKB1M"
      },
      "source": [
        "from math import log\n",
        "def prediction(text):\n",
        "  probs_sport = [P_words_sport[word] for word in text.split(\" \") if word in P_words_sport]\n",
        "  sport_value = abs(log(prob_sport)) + sum([abs(log(x)) for x in probs_sport])\n",
        "\n",
        "  probs_ham = [P_words_politic[word] for word in text.split(\" \") if word in P_words_politic]\n",
        "  ham_value = abs(log(prob_politic)) + sum([abs(log(x)) for x in probs_politic])\n",
        "\n",
        "  if sport_value > politic_value:\n",
        "    return \"sport\"\n",
        "  else:\n",
        "    return \"politic\""
      ],
      "execution_count": null,
      "outputs": []
    },
    {
      "cell_type": "code",
      "metadata": {
        "id": "1cl5ZyFaLkF3"
      },
      "source": [
        "sport_news = \"Liverpool central defender Joe Gomez has been injured on international duty with England. The 23-year-old suffered the injury during the build-up to the game against the Republic of Ireland on Thursday. England manager Gareth Southgate is expected to provide an update on the seriousness of the issue at a news conference on Wednesday.\"\n",
        "politic_news = \"Donald Trump will remain in office until 20 January, when he'll hand the job over to his successor and join the exclusive club of former US presidents.\""
      ],
      "execution_count": null,
      "outputs": []
    }
  ]
}
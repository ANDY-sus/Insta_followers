{
  "nbformat": 4,
  "nbformat_minor": 0,
  "metadata": {
    "colab": {
      "name": "homework_70(insta_follower).ipynb",
      "provenance": [],
      "collapsed_sections": []
    },
    "kernelspec": {
      "display_name": "Python 3",
      "name": "python3"
    }
  },
  "cells": [
    {
      "cell_type": "code",
      "metadata": {
        "colab": {
          "base_uri": "https://localhost:8080/"
        },
        "id": "DgStLKD3aFWV",
        "outputId": "c66aea48-d3f8-4d2d-b3f3-4dec224d0ca8"
      },
      "source": [
        "from google.colab import drive\n",
        "drive.mount('/content/gdrive', force_remount=True)"
      ],
      "execution_count": null,
      "outputs": [
        {
          "output_type": "stream",
          "text": [
            "Mounted at /content/gdrive\n"
          ],
          "name": "stdout"
        }
      ]
    },
    {
      "cell_type": "markdown",
      "metadata": {
        "id": "XS8-d2chdWd6"
      },
      "source": [
        "1. create a list of names add all subscriptions among our subscribers that are stored in the dictionary dict_inst"
      ]
    },
    {
      "cell_type": "code",
      "metadata": {
        "id": "6Aymm7rXaNbu"
      },
      "source": [
        "pathk = '/content/gdrive/My Drive/colab_Andy/Homework/insta_follower.csv'\n",
        "import codecs\n",
        "with codecs.open(pathk, \"r\",encoding='utf-8', errors='ignore') as fdata:\n",
        "  segmentsd = fdata.readlines()"
      ],
      "execution_count": null,
      "outputs": []
    },
    {
      "cell_type": "code",
      "metadata": {
        "colab": {
          "base_uri": "https://localhost:8080/",
          "height": 86
        },
        "id": "dE9SlSncaNeP",
        "outputId": "6692364e-668d-4b8a-b98b-dc1e61578ac3"
      },
      "source": [
        "segmentsd[8]"
      ],
      "execution_count": null,
      "outputs": [
        {
          "output_type": "execute_result",
          "data": {
            "application/vnd.google.colaboratory.intrinsic+json": {
              "type": "string"
            },
            "text/plain": [
              "'Rawdah 🕊,ЗАКОНЫ ВСЕЛЕННОЙ,ЛАЗЕРНАЯ КОРРЕКЦИЯ ЗРЕНИЯ,Твоя Грамотность,tanya_markova_,ДИРЕКТ КБР️,,Обувь,САЛЮТЫ | ФЕЙЕРВЕРКИ | НАЛЬЧИК,inst.karo,Английский в Англии,Shah,bouquet_nalchik,ann🧀🐁,,chp_nalchik_,Александр Калиниченко,Аnjelika Pshikhacheva,top.bloggers.club,Джулия Девочка с Кавказа 🏔,Кантемир Буранов,Кудаева Бэлла,Natali,,Спортивный совет ЦБ РФ,slavamarlow,Лара. Живу в Японии,Zamira Kokova,,,ПАМАГИТИИ,,Мадина Черкесова,Создание сайтов | Лендинги,Цветы Нальчик📍Около ТЦ Горный,PREMIUM CARE and DEMIAND,,\\r\\n'"
            ]
          },
          "metadata": {
            "tags": []
          },
          "execution_count": 7
        }
      ]
    },
    {
      "cell_type": "code",
      "metadata": {
        "colab": {
          "base_uri": "https://localhost:8080/",
          "height": 130
        },
        "id": "B881fH8-aJNj",
        "outputId": "a322926b-dacc-4ca3-843d-17ce790bbd37"
      },
      "source": [
        "with open(path, \"r\") as f:\n",
        "  segments = f.readlines()\n",
        "\n",
        "andy = []\n",
        "c = i.split(\",\")[4]\n",
        "  if c != \"\":\n",
        "    andy.append(c)"
      ],
      "execution_count": 12,
      "outputs": [
        {
          "output_type": "error",
          "ename": "IndentationError",
          "evalue": "ignored",
          "traceback": [
            "\u001b[0;36m  File \u001b[0;32m\"<ipython-input-12-b400fbcd5612>\"\u001b[0;36m, line \u001b[0;32m6\u001b[0m\n\u001b[0;31m    if c != \"\":\u001b[0m\n\u001b[0m    ^\u001b[0m\n\u001b[0;31mIndentationError\u001b[0m\u001b[0;31m:\u001b[0m unexpected indent\n"
          ]
        }
      ]
    },
    {
      "cell_type": "markdown",
      "metadata": {
        "id": "U5soIXAVdv0C"
      },
      "source": [
        "2. find 10 most popular accounts from the list of names, print account names"
      ]
    },
    {
      "cell_type": "code",
      "metadata": {
        "colab": {
          "base_uri": "https://localhost:8080/",
          "height": 232
        },
        "id": "_HDh8BLoaJQT",
        "outputId": "fc2232e5-8156-40bf-e753-954822f38802"
      },
      "source": [
        "names = pathk\n",
        "names_set = set(names)\n",
        "с = {name:names.count(name) for name in names_set}# dictionary comprehension\n",
        "common_names = sorted(c, key = c.get, reverse = True)\n",
        "top_10 = common_names[:10]\n",
        "print(top_10)"
      ],
      "execution_count": null,
      "outputs": [
        {
          "output_type": "error",
          "ename": "NameError",
          "evalue": "ignored",
          "traceback": [
            "\u001b[0;31m---------------------------------------------------------------------------\u001b[0m",
            "\u001b[0;31mNameError\u001b[0m                                 Traceback (most recent call last)",
            "\u001b[0;32m<ipython-input-8-afe97a5808cb>\u001b[0m in \u001b[0;36m<module>\u001b[0;34m()\u001b[0m\n\u001b[1;32m      2\u001b[0m \u001b[0mnames_set\u001b[0m \u001b[0;34m=\u001b[0m \u001b[0mset\u001b[0m\u001b[0;34m(\u001b[0m\u001b[0mnames\u001b[0m\u001b[0;34m)\u001b[0m\u001b[0;34m\u001b[0m\u001b[0;34m\u001b[0m\u001b[0m\n\u001b[1;32m      3\u001b[0m \u001b[0mс\u001b[0m \u001b[0;34m=\u001b[0m \u001b[0;34m{\u001b[0m\u001b[0mname\u001b[0m\u001b[0;34m:\u001b[0m\u001b[0mnames\u001b[0m\u001b[0;34m.\u001b[0m\u001b[0mcount\u001b[0m\u001b[0;34m(\u001b[0m\u001b[0mname\u001b[0m\u001b[0;34m)\u001b[0m \u001b[0;32mfor\u001b[0m \u001b[0mname\u001b[0m \u001b[0;32min\u001b[0m \u001b[0mnames_set\u001b[0m\u001b[0;34m}\u001b[0m\u001b[0;31m# dictionary comprehension\u001b[0m\u001b[0;34m\u001b[0m\u001b[0;34m\u001b[0m\u001b[0m\n\u001b[0;32m----> 4\u001b[0;31m \u001b[0mcommon_names\u001b[0m \u001b[0;34m=\u001b[0m \u001b[0msorted\u001b[0m\u001b[0;34m(\u001b[0m\u001b[0mc\u001b[0m\u001b[0;34m,\u001b[0m \u001b[0mkey\u001b[0m \u001b[0;34m=\u001b[0m \u001b[0mc\u001b[0m\u001b[0;34m.\u001b[0m\u001b[0mget\u001b[0m\u001b[0;34m,\u001b[0m \u001b[0mreverse\u001b[0m \u001b[0;34m=\u001b[0m \u001b[0;32mTrue\u001b[0m\u001b[0;34m)\u001b[0m\u001b[0;34m\u001b[0m\u001b[0;34m\u001b[0m\u001b[0m\n\u001b[0m\u001b[1;32m      5\u001b[0m \u001b[0mtop_10\u001b[0m \u001b[0;34m=\u001b[0m \u001b[0mcommon_names\u001b[0m\u001b[0;34m[\u001b[0m\u001b[0;34m:\u001b[0m\u001b[0;36m10\u001b[0m\u001b[0;34m]\u001b[0m\u001b[0;34m\u001b[0m\u001b[0;34m\u001b[0m\u001b[0m\n\u001b[1;32m      6\u001b[0m \u001b[0mprint\u001b[0m\u001b[0;34m(\u001b[0m\u001b[0mtop_10\u001b[0m\u001b[0;34m)\u001b[0m\u001b[0;34m\u001b[0m\u001b[0;34m\u001b[0m\u001b[0m\n",
            "\u001b[0;31mNameError\u001b[0m: name 'c' is not defined"
          ]
        }
      ]
    },
    {
      "cell_type": "code",
      "metadata": {
        "id": "pn8pc5c8e6Cy"
      },
      "source": [
        ""
      ],
      "execution_count": null,
      "outputs": []
    },
    {
      "cell_type": "code",
      "metadata": {
        "id": "6BO48gjYe6Fr"
      },
      "source": [
        ""
      ],
      "execution_count": null,
      "outputs": []
    },
    {
      "cell_type": "code",
      "metadata": {
        "id": "79MZq8RDe6sm"
      },
      "source": [
        ""
      ],
      "execution_count": null,
      "outputs": []
    },
    {
      "cell_type": "markdown",
      "metadata": {
        "id": "UFDXPspqe7Vi"
      },
      "source": [
        "3. upload to github your project"
      ]
    },
    {
      "cell_type": "code",
      "metadata": {
        "id": "PjziSpz2e6w1"
      },
      "source": [
        ""
      ],
      "execution_count": null,
      "outputs": []
    },
    {
      "cell_type": "code",
      "metadata": {
        "id": "O_ZxBK0he6Kf"
      },
      "source": [
        ""
      ],
      "execution_count": null,
      "outputs": []
    },
    {
      "cell_type": "code",
      "metadata": {
        "id": "geaLed2YaJT4"
      },
      "source": [
        ""
      ],
      "execution_count": null,
      "outputs": []
    }
  ]
}